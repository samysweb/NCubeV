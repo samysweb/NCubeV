{
 "cells": [
  {
   "cell_type": "code",
   "execution_count": 1,
   "metadata": {},
   "outputs": [],
   "source": [
    "import sys\n",
    "import os\n",
    "import re"
   ]
  },
  {
   "cell_type": "code",
   "execution_count": 5,
   "metadata": {},
   "outputs": [],
   "source": [
    "def compute_times(logfile):\n",
    "    total_time = 0.0\n",
    "    olnnv_time = 0.0\n",
    "    smt_time = 0.0\n",
    "    with open(logfile, \"r\") as f:\n",
    "        for curline in f:\n",
    "            if curline.startswith(\"[SMT]\"):\n",
    "                x = re.search(\"\\\\[SMT\\\\] Filter took ([\\\\d\\\\.]+) seconds.*\", curline)\n",
    "                if x:\n",
    "                    smt_time+=float(x.groups()[0])\n",
    "            elif curline.startswith(\"Runtime: \"):\n",
    "                x1 = re.search(\"Runtime: ([\\\\d\\\\.]+) sec.*\",curline)\n",
    "                x2 = re.search(\"Runtime: ([\\\\d\\\\.]+) min.*\",curline)\n",
    "                if x1:\n",
    "                    olnnv_time+=float(x1.groups()[0])\n",
    "                elif x2:\n",
    "                    olnnv_time+=float(x2.groups()[0])*60\n",
    "            elif curline.startswith(\"[runlim] real:\"):\n",
    "                x = re.search(\"\\\\[runlim\\\\] real:\\\\s*([\\\\d\\\\.]+) seconds.*\",curline)\n",
    "                if x:\n",
    "                    total_time=float(x.groups()[0])\n",
    "    return olnnv_time,smt_time,total_time-olnnv_time-smt_time, total_time"
   ]
  },
  {
   "cell_type": "code",
   "execution_count": 6,
   "metadata": {},
   "outputs": [
    {
     "name": "stdout",
     "output_type": "stream",
     "text": [
      "('OLNNV Time', 'SMT Time', 'Overhead (Approx)', 'Total')\n",
      "(28204.5, 272252.20735757274, 5037.862642427266, 305494.57)\n"
     ]
    }
   ],
   "source": [
    "print((\"OLNNV Time\",\"SMT Time\", \"Overhead (Approx)\", \"Total\"))\n",
    "print(compute_times(\"zeppelin-small2-1400000/approx1-precise.out\"))"
   ]
  },
  {
   "cell_type": "code",
   "execution_count": 36,
   "metadata": {},
   "outputs": [],
   "source": [
    "def compute_to_time(logfile):\n",
    "    to_time = 0.0\n",
    "    to_count=0\n",
    "    with open(logfile, \"r\") as f:\n",
    "        for curline in f:\n",
    "            if curline.startswith(\"[SMT]\"):\n",
    "                x = re.search(\"\\\\[SMT\\\\] Filter took ([\\\\d\\\\.]+) seconds.* TO\\\\)\", curline)\n",
    "                if x:\n",
    "                    to_time+=float(x.groups()[0])\n",
    "                    to_count+=1\n",
    "    return to_time,to_count"
   ]
  },
  {
   "cell_type": "code",
   "execution_count": 37,
   "metadata": {},
   "outputs": [
    {
     "name": "stdout",
     "output_type": "stream",
     "text": [
      "(228527.23982881306, 2111)\n"
     ]
    }
   ],
   "source": [
    "print(compute_to_time(\"zeppelin-small2-1400000/approx1-precise.out\"))"
   ]
  },
  {
   "cell_type": "code",
   "execution_count": 17,
   "metadata": {},
   "outputs": [],
   "source": [
    "def compute_max_non_to_time(logfile):\n",
    "    max_noto_time = []\n",
    "    with open(logfile, \"r\") as f:\n",
    "        for curline in f:\n",
    "            if curline.startswith(\"[SMT]\"):\n",
    "                x1 = re.search(\"\\\\[SMT\\\\] Filter took ([\\\\d\\\\.]+) seconds .*pre\\\\)\", curline)\n",
    "                x2 = re.search(\"\\\\[SMT\\\\] Filter took ([\\\\d\\\\.]+) seconds .*post\\\\)\", curline)\n",
    "                if x1:\n",
    "                    max_noto_time.append(float(x1.groups()[0]))\n",
    "                elif x2:\n",
    "                    max_noto_time.append(float(x2.groups()[0]))\n",
    "                #else:\n",
    "                #    print(curline)\n",
    "    return max_noto_time"
   ]
  },
  {
   "cell_type": "code",
   "execution_count": 19,
   "metadata": {},
   "outputs": [],
   "source": [
    "times = compute_max_non_to_time(\"zeppelin-small2-1400000/approx1-precise.out\")"
   ]
  },
  {
   "cell_type": "code",
   "execution_count": 25,
   "metadata": {},
   "outputs": [],
   "source": [
    "import statistics \n",
    "import numpy as np"
   ]
  },
  {
   "cell_type": "code",
   "execution_count": 21,
   "metadata": {},
   "outputs": [
    {
     "data": {
      "text/plain": [
       "0.16132042441574712"
      ]
     },
     "execution_count": 21,
     "metadata": {},
     "output_type": "execute_result"
    }
   ],
   "source": [
    "statistics.mean(times)"
   ]
  },
  {
   "cell_type": "code",
   "execution_count": 22,
   "metadata": {},
   "outputs": [
    {
     "data": {
      "text/plain": [
       "0.076767178"
      ]
     },
     "execution_count": 22,
     "metadata": {},
     "output_type": "execute_result"
    }
   ],
   "source": [
    "statistics.median(times)"
   ]
  },
  {
   "cell_type": "code",
   "execution_count": 23,
   "metadata": {},
   "outputs": [
    {
     "data": {
      "text/plain": [
       "1.335321256835368"
      ]
     },
     "execution_count": 23,
     "metadata": {},
     "output_type": "execute_result"
    }
   ],
   "source": [
    "statistics.stdev(times)"
   ]
  },
  {
   "cell_type": "code",
   "execution_count": 26,
   "metadata": {},
   "outputs": [
    {
     "data": {
      "text/plain": [
       "0.20044758040000002"
      ]
     },
     "execution_count": 26,
     "metadata": {},
     "output_type": "execute_result"
    }
   ],
   "source": [
    "np.percentile(times, 90)"
   ]
  },
  {
   "cell_type": "code",
   "execution_count": 27,
   "metadata": {},
   "outputs": [
    {
     "data": {
      "text/plain": [
       "0.704729982859999"
      ]
     },
     "execution_count": 27,
     "metadata": {},
     "output_type": "execute_result"
    }
   ],
   "source": [
    "np.percentile(times, 99)"
   ]
  },
  {
   "cell_type": "code",
   "execution_count": 34,
   "metadata": {},
   "outputs": [
    {
     "data": {
      "text/plain": [
       "15.364771965234096"
      ]
     },
     "execution_count": 34,
     "metadata": {},
     "output_type": "execute_result"
    }
   ],
   "source": [
    "np.percentile(times, 99.9)"
   ]
  },
  {
   "cell_type": "code",
   "execution_count": 30,
   "metadata": {},
   "outputs": [
    {
     "data": {
      "text/plain": [
       "18759"
      ]
     },
     "execution_count": 30,
     "metadata": {},
     "output_type": "execute_result"
    }
   ],
   "source": [
    "len(times)"
   ]
  },
  {
   "cell_type": "code",
   "execution_count": 32,
   "metadata": {},
   "outputs": [
    {
     "data": {
      "text/plain": [
       "18.759"
      ]
     },
     "execution_count": 32,
     "metadata": {},
     "output_type": "execute_result"
    }
   ],
   "source": [
    "0.001*len(times)"
   ]
  },
  {
   "cell_type": "code",
   "execution_count": null,
   "metadata": {},
   "outputs": [],
   "source": []
  }
 ],
 "metadata": {
  "kernelspec": {
   "display_name": "Python 3",
   "language": "python",
   "name": "python3"
  },
  "language_info": {
   "codemirror_mode": {
    "name": "ipython",
    "version": 3
   },
   "file_extension": ".py",
   "mimetype": "text/x-python",
   "name": "python",
   "nbconvert_exporter": "python",
   "pygments_lexer": "ipython3",
   "version": "3.7.3"
  }
 },
 "nbformat": 4,
 "nbformat_minor": 2
}
