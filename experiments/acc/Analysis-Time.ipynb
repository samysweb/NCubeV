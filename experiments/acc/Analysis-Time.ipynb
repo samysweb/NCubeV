{
 "cells": [
  {
   "cell_type": "code",
   "execution_count": 17,
   "metadata": {},
   "outputs": [],
   "source": [
    "import sys\n",
    "import os\n",
    "import re"
   ]
  },
  {
   "cell_type": "code",
   "execution_count": 38,
   "metadata": {},
   "outputs": [],
   "source": [
    "def compute_times(logfile):\n",
    "    total_time = 0.0\n",
    "    olnnv_time = 0.0\n",
    "    smt_time = 0.0\n",
    "    with open(logfile, \"r\") as f:\n",
    "        for curline in f:\n",
    "            if curline.startswith(\"[SMT]\"):\n",
    "                x = re.search(\"\\\\[SMT\\\\] Filter took ([\\\\d\\\\.]+) seconds.*\", curline)\n",
    "                if x:\n",
    "                    smt_time+=float(x.groups()[0])\n",
    "            elif curline.startswith(\"Runtime: \"):\n",
    "                x1 = re.search(\"Runtime: ([\\\\d\\\\.]+) sec.*\",curline)\n",
    "                x2 = re.search(\"Runtime: ([\\\\d\\\\.]+) min.*\",curline)\n",
    "                if x1:\n",
    "                    olnnv_time+=float(x1.groups()[0])\n",
    "                elif x2:\n",
    "                    olnnv_time+=float(x2.groups()[0])*60\n",
    "            elif curline.startswith(\"[runlim] real:\"):\n",
    "                x = re.search(\"\\\\[runlim\\\\] real:\\\\s*([\\\\d\\\\.]+) seconds.*\",curline)\n",
    "                if x:\n",
    "                    total_time=float(x.groups()[0])\n",
    "    return olnnv_time,smt_time,total_time-olnnv_time-smt_time"
   ]
  },
  {
   "cell_type": "code",
   "execution_count": 42,
   "metadata": {},
   "outputs": [
    {
     "name": "stdout",
     "output_type": "stream",
     "text": [
      "('OLNNV Time', 'SMT Time', 'Overhead (Approx)')\n",
      "(25.3, 42.006763997000014, 35.50323600299999)\n",
      "(7.6, 4.23602241, 62.80397759)\n",
      "(12.399999999999999, 3.8284544449999998, 104.261545555)\n",
      "(21.3, 4.2538918589999986, 167.826108141)\n"
     ]
    }
   ],
   "source": [
    "print((\"OLNNV Time\",\"SMT Time\", \"Overhead (Approx)\"))\n",
    "print(compute_times(\"acc-3000000-64-64/linear.out\"))\n",
    "print(compute_times(\"acc-3000000-64-64/approx1.out\"))\n",
    "print(compute_times(\"acc-3000000-64-64/approx2.out\"))\n",
    "print(compute_times(\"acc-3000000-64-64/approx3.out\"))"
   ]
  },
  {
   "cell_type": "code",
   "execution_count": 43,
   "metadata": {},
   "outputs": [
    {
     "name": "stdout",
     "output_type": "stream",
     "text": [
      "('OLNNV Time', 'SMT Time', 'Overhead (Approx)')\n",
      "(58.8, 133.70152821800016, 29.41847178199984)\n",
      "(35.900000000000006, 12.921568436999992, 67.538431563)\n",
      "(58.699999999999996, 10.682702760999986, 119.16729723900004)\n",
      "(85.99999999999999, 9.214315736000014, 189.355684264)\n"
     ]
    }
   ],
   "source": [
    "print((\"OLNNV Time\",\"SMT Time\", \"Overhead (Approx)\"))\n",
    "print(compute_times(\"acc-improved-2000000-64-64/linear.out\"))\n",
    "print(compute_times(\"acc-improved-2000000-64-64/approx1.out\"))\n",
    "print(compute_times(\"acc-improved-2000000-64-64/approx2.out\"))\n",
    "print(compute_times(\"acc-improved-2000000-64-64/approx3.out\"))"
   ]
  },
  {
   "cell_type": "code",
   "execution_count": 44,
   "metadata": {},
   "outputs": [
    {
     "name": "stdout",
     "output_type": "stream",
     "text": [
      "('OLNNV Time', 'SMT Time', 'Overhead (Approx)')\n",
      "(422.4, 909.3728012859968, 81.62719871400327)\n",
      "(87.39999999999999, 34.04951797900002, 68.800482021)\n",
      "(165.6, 28.800222724999937, 127.28977727500006)\n",
      "(253.69999999999996, 26.34910663400003, 202.49089336600002)\n"
     ]
    }
   ],
   "source": [
    "print((\"OLNNV Time\",\"SMT Time\", \"Overhead (Approx)\"))\n",
    "print(compute_times(\"acc-2000000-64-64-64-64/linear.out\"))\n",
    "print(compute_times(\"acc-2000000-64-64-64-64/approx1.out\"))\n",
    "print(compute_times(\"acc-2000000-64-64-64-64/approx2.out\"))\n",
    "print(compute_times(\"acc-2000000-64-64-64-64/approx3.out\"))"
   ]
  },
  {
   "cell_type": "code",
   "execution_count": null,
   "metadata": {},
   "outputs": [],
   "source": []
  }
 ],
 "metadata": {
  "kernelspec": {
   "display_name": "Python 3",
   "language": "python",
   "name": "python3"
  },
  "language_info": {
   "codemirror_mode": {
    "name": "ipython",
    "version": 3
   },
   "file_extension": ".py",
   "mimetype": "text/x-python",
   "name": "python",
   "nbconvert_exporter": "python",
   "pygments_lexer": "ipython3",
   "version": "3.7.3"
  }
 },
 "nbformat": 4,
 "nbformat_minor": 2
}
