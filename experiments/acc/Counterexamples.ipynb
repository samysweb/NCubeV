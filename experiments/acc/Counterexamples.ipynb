{
 "cells": [
  {
   "cell_type": "code",
   "execution_count": 1,
   "metadata": {},
   "outputs": [
    {
     "name": "stderr",
     "output_type": "stream",
     "text": [
      "WARNING: import of SymbolicUtils.is_literal_number into AST conflicts with an existing identifier; ignored.\n"
     ]
    }
   ],
   "source": [
    "using SNNT\n",
    "using JLD"
   ]
  },
  {
   "cell_type": "code",
   "execution_count": 33,
   "metadata": {},
   "outputs": [
    {
     "data": {
      "text/plain": [
       "Dict{String, Any} with 2 entries:\n",
       "  \"args\"   => Dict{String, Any}(\"approx\"=>3, \"linear\"=>false, \"output\"=>\"experi…\n",
       "  \"result\" => OlnnvResult(Unsafe, Any[SmtFilterMeta(1, 0), SmtFilterMeta(1, 0),…"
      ]
     },
     "metadata": {},
     "output_type": "display_data"
    }
   ],
   "source": [
    "data = load(\"acc-2000000-64-64-64-64/results-approx-3.jld\")"
   ]
  },
  {
   "cell_type": "code",
   "execution_count": 34,
   "metadata": {},
   "outputs": [
    {
     "name": "stdout",
     "output_type": "stream",
     "text": [
      "Counterexample 1: Float32[8.22419, -39.027935] -> Float32[99.99987]\n",
      "Counterexample 2: Float32[6.712962, -39.90593] -> Float32[99.99989]\n",
      "Counterexample 3: Float32[1.0631546, -12.148167] -> Float32[40.11325]\n",
      "Counterexample 4: Float32[1.7150916, -11.876264] -> Float32[40.113224]\n",
      "Counterexample 5: Float32[1.8194469, -11.855432] -> Float32[40.113224]\n",
      "Counterexample 6: Float32[2.3973835, -11.62151] -> Float32[40.113228]\n"
     ]
    }
   ],
   "source": [
    "for (i,x) in enumerate(filter(x->x[2][1]<100&&x[1][1]>1,map(x->x.counter_example,data[\"result\"].stars)))\n",
    "    println(\"Counterexample $i: $(x[1]) -> $(x[2])\")\n",
    "end"
   ]
  },
  {
   "cell_type": "code",
   "execution_count": null,
   "metadata": {},
   "outputs": [],
   "source": []
  }
 ],
 "metadata": {
  "kernelspec": {
   "display_name": "Julia 1.8.2",
   "language": "julia",
   "name": "julia-1.8"
  },
  "language_info": {
   "file_extension": ".jl",
   "mimetype": "application/julia",
   "name": "julia",
   "version": "1.8.2"
  },
  "orig_nbformat": 4,
  "vscode": {
   "interpreter": {
    "hash": "916dbcbb3f70747c44a77c7bcd40155683ae19c65e1c03b4aa3499c5328201f1"
   }
  }
 },
 "nbformat": 4,
 "nbformat_minor": 2
}
