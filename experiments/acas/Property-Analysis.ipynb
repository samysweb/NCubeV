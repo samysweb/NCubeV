{
 "cells": [
  {
   "cell_type": "code",
   "execution_count": 1,
   "metadata": {},
   "outputs": [],
   "source": [
    "using SNNT\n",
    "using JLD\n",
    "using Glob"
   ]
  },
  {
   "cell_type": "code",
   "execution_count": 16,
   "metadata": {},
   "outputs": [],
   "source": [
    "using SNNT.AST\n",
    "using SNNT.Control"
   ]
  },
  {
   "cell_type": "code",
   "execution_count": 39,
   "metadata": {},
   "outputs": [
    {
     "data": {
      "text/plain": [
       "Dict{String, String} with 3 entries:\n",
       "  \"fixed\"   => \"../../test/parsing/examples/acas/fixed\"\n",
       "  \"formula\" => \"../../test/parsing/examples/acas/property-scl2500-compressed\"\n",
       "  \"mapping\" => \"../../test/parsing/examples/acas/mapping\""
      ]
     },
     "metadata": {},
     "output_type": "display_data"
    }
   ],
   "source": [
    "args=Dict(\n",
    "    \"fixed\"=>\"../../test/parsing/examples/acas/fixed\",\n",
    "    \"mapping\"=>\"../../test/parsing/examples/acas/mapping\",\n",
    "    \"formula\"=>\"../../test/parsing/examples/acas/property-scl2500-compressed\"\n",
    ")"
   ]
  },
  {
   "cell_type": "code",
   "execution_count": 40,
   "metadata": {},
   "outputs": [
    {
     "data": {
      "text/plain": [
       "Query((-16000.0*x1<=8000.0&16000.0*x1<=8000.0&-40.0*x4<=14.0&40.0*x4<=20.0&-200.0*x2<=100.0&200.0*x2<=100.0&-200.0*x3<=0.0&200.0*x3<=0.0&1.0*x5<=100.0&1.0*x6<=100.0&1.0*x7<=100.0&1.0*x8<=100.0&1.0*x9<=100.0&1.0*x10<=100.0&1.0*x11<=100.0&1.0*x12<=100.0&1.0*x13<=100.0&-1.0*x5<=100.0&-1.0*x6<=100.0&-1.0*x7<=100.0&-1.0*x8<=100.0&-1.0*x9<=100.0&-1.0*x10<=100.0&-1.0*x11<=100.0&-1.0*x12<=100.0&-1.0*x13<=100.0&!(isMax(nnCOCpost,nnCOCpost,nnDNCpost,nnDNDpost,nnDES1500post,nnCLI1500post,nnSDES1500post,nnSCLI1500post,nnSDES2500post,nnSCL2500post))&((-88000.0*x4<=45000.0&0.47*x21.0*x4<-0.51&200.0*x2<0.0)->O((-0.13397549715909093+hNet+(-0.5484375*tNMACNet)+(-0.25568181818181823*vONet)+(-0.53625*(tNMACNet^2.0))+(-0.5*tNMACNet*vONet))<0.0,nothing,nothing))&((((-88000.0*x4<=45000.0&-200.0*x2<=0.0)|(-0.47*x2-1.0*x4<=0.51&200.0*x2<0.0))&((88000.0*x4<=-44000.0&-200.0*x2<=0.0)|(0.47*x21.0*x4<=-0.5&200.0*x2<0.0)))->((16000.0*x1<-100.0&-200.0*x2<=0.0)|(O((100.0+(16000.0*hNet)+(-1864.801864801865*(vONet^2.0)))<0.0,nothing,nothing)&200.0*x2<0.0)))&((((-88000.0*x4<44000.0&-200.0*x2<=0.0)|(-0.47*x2-1.0*x4<0.5&200.0*x2<0.0))&((88000.0*x4<=-44000.0&-200.0*x2<=-2500.0)|(0.08*x20.17*x4<=0.91&200.0*x2<2500.0)))->O((-0.12781250000000002+hNet+(-0.53625*tNMACNet)+(-0.25*vONet)+(-0.53625*(tNMACNet^2.0))+(-0.5*tNMACNet*vONet))<0.0,nothing,nothing))&(((-88000.0*x4<44000.0&-200.0*x2<=-2500.0)|(-0.08*x2-0.17*x4<-0.91&200.0*x2<2500.0))->((0.16*x1-1.0*x4<0.5&-200.0*x2<=-2500.0)|(O((1.0+(-0.41412104497509*tNMACNet)+(0.06625936719601438*hNet)+(-0.1930634242308112*vONet)+(0.007722536969232447*(vONet^2.0)))<0.0,nothing,nothing)&200.0*x2<2500.0)))&!(((isMax(nnDNCpost,nnCOCpost,nnDNCpost,nnDNDpost,nnDES1500post,nnCLI1500post,nnSDES1500post,nnSCLI1500post,nnSDES2500post,nnSCL2500post)&((-88000.0*x4<=45000.0&-0.62*x21.0*x4<-0.51&-200.0*x2<0.0)->U((-0.09894854080578513+(-0.41144318181818185*tNMACNet)+(-1.0*hNet)+(0.2556818181818182*vONet)+(-0.40230000000000005*(tNMACNet^2.0))+(0.5*tNMACNet*vONet))<0.0,nothing,nothing))&((((-88000.0*x4<=45000.0&200.0*x2<=0.0)|(0.62*x2-1.0*x4<=0.51&-200.0*x2<0.0))&((88000.0*x4<=-44000.0&200.0*x2<=0.0)|(-0.62*x21.0*x4<=-0.5&-200.0*x2<0.0)))->((-16000.0*x1<-100.0&200.0*x2<=0.0)|(U((100.0+(-16000.0*hNet)+(-2485.707183693761*(vONet^2.0)))<0.0,nothing,nothing)&-200.0*x2<0.0)))&((((-88000.0*x4<44000.0&200.0*x2<=0.0)|(0.62*x2-1.0*x4<0.5&-200.0*x2<0.0))&((88000.0*x4<=-44000.0&200.0*x2<=0.0)|(-0.62*x21.0*x4<=-0.5&-200.0*x2<0.0)))->U((-0.094325+(-0.40230000000000005*tNMACNet)+(-1.0*hNet)+(0.25*vONet)+(-0.40230000000000005*(tNMACNet^2.0))+(0.5*tNMACNet*vONet))<0.0,nothing,nothing))&(((-88000.0*x4<44000.0&200.0*x2<=0.0)|(0.62*x2-1.0*x4<0.5&-200.0*x2<0.0))->((-3.52e7*x1<-220000.0&200.0*x2<=0.0)|(U((0.0062499999999999995+(-1.0*hNet)+(0.15535669898086005*(vONet^2.0)))<0.0,nothing,nothing)&-200.0*x2<0.0))))|(isMax(nnDNDpost,nnCOCpost,nnDNCpost,nnDNDpost,nnDES1500post,nnCLI1500post,nnSDES1500post,nnSCLI1500post,nnSDES2500post,nnSCL2500post)&((-88000.0*x4<=45000.0&0.62*x21.0*x4<-0.51&200.0*x2<0.0)->U((-0.09894854080578513+hNet+(-0.41144318181818185*tNMACNet)+(-0.25568181818181823*vONet)+(-0.40230000000000005*(tNMACNet^2.0))+(-0.5*tNMACNet*vONet))<0.0,nothing,nothing))&((((-88000.0*x4<=45000.0&-200.0*x2<=0.0)|(-0.62*x2-1.0*x4<=0.51&200.0*x2<0.0))&((88000.0*x4<=-44000.0&-200.0*x2<=0.0)|(0.62*x21.0*x4<=-0.5&200.0*x2<0.0)))->((16000.0*x1<-100.0&-200.0*x2<=0.0)|(U((100.0+(16000.0*hNet)+(-2485.707183693761*(vONet^2.0)))<0.0,nothing,nothing)&200.0*x2<0.0)))&((((-88000.0*x4<44000.0&-200.0*x2<=0.0)|(-0.62*x2-1.0*x4<0.5&200.0*x2<0.0))&((88000.0*x4<=-44000.0&-200.0*x2<=0.0)|(0.62*x21.0*x4<=-0.5&200.0*x2<0.0)))->U((-0.094325+hNet+(-0.40230000000000005*tNMACNet)+(-0.25*vONet)+(-0.40230000000000005*(tNMACNet^2.0))+(-0.5*tNMACNet*vONet))<0.0,nothing,nothing))&(((-88000.0*x4<44000.0&-200.0*x2<=0.0)|(-0.62*x2-1.0*x4<0.5&200.0*x2<0.0))->((3.52e7*x1<-220000.0&-200.0*x2<=0.0)|(U((0.0062499999999999995+hNet+(0.15535669898086005*(vONet^2.0)))<0.0,nothing,nothing)&200.0*x2<0.0))))|(((-88000.0*x4<=45000.0&-0.62*x21.0*x4<-0.51&-200.0*x2<0.0)->U((-0.09894854080578513+(-0.41144318181818185*tNMACNet)+(-1.0*hNet)+(0.2556818181818182*vONet)+(-0.40230000000000005*(tNMACNet^2.0))+(0.5*tNMACNet*vONet))<0.0,nothing,nothing))&((((-88000.0*x4<=45000.0&200.0*x2<=0.0)|(0.62*x2-1.0*x4<=0.51&-200.0*x2<0.0))&((88000.0*x4<=-44000.0&200.0*x2<=0.0)|(-0.62*x21.0*x4<=-0.5&-200.0*x2<0.0)))->((-16000.0*x1<-100.0&200.0*x2<=0.0)|(U((100.0+(-16000.0*hNet)+(-2485.707183693761*(vONet^2.0)))<0.0,nothing,nothing)&-200.0*x2<0.0)))&((((-88000.0*x4<44000.0&200.0*x2<=0.0)|(0.62*x2-1.0*x4<0.5&-200.0*x2<0.0))&((88000.0*x4<=-44000.0&200.0*x2<=-25.0)|(-0.12*x20.2*x4<=-0.08&-200.0*x2<25.0)))->U((-0.094325+(-0.40230000000000005*tNMACNet)+(-1.0*hNet)+(0.25*vONet)+(-0.40230000000000005*(tNMACNet^2.0))+(0.5*tNMACNet*vONet))<0.0,nothing,nothing))&(((-88000.0*x4<44000.0&200.0*x2<=-25.0)|(0.12*x2-0.2*x4<0.08&-200.0*x2<25.0))->((-1.0*x1-0.06*x4<0.02&200.0*x2<=-25.0)|(U((-0.022572551578424062+(-0.0625*tNMACNet)+(-1.0*hNet)+(0.03883917474521501*vONet)+(0.15535669898086005*(vONet^2.0)))<0.0,nothing,nothing)&-200.0*x2<25.0)))&isMax(nnDES1500post,nnCOCpost,nnDNCpost,nnDNDpost,nnDES1500post,nnCLI1500post,nnSDES1500post,nnSCLI1500post,nnSDES2500post,nnSCL2500post))|(((-88000.0*x4<=45000.0&0.62*x21.0*x4<-0.51&200.0*x2<0.0)->U((-0.09894854080578513+hNet+(-0.41144318181818185*tNMACNet)+(-0.25568181818181823*vONet)+(-0.40230000000000005*(tNMACNet^2.0))+(-0.5*tNMACNet*vONet))<0.0,nothing,nothing))&((((-88000.0*x4<=45000.0&-200.0*x2<=0.0)|(-0.62*x2-1.0*x4<=0.51&200.0*x2<0.0))&((88000.0*x4<=-44000.0&-200.0*x2<=0.0)|(0.62*x21.0*x4<=-0.5&200.0*x2<0.0)))->((16000.0*x1<-100.0&-200.0*x2<=0.0)|(U((100.0+(16000.0*hNet)+(-2485.707183693761*(vONet^2.0)))<0.0,nothing,nothing)&200.0*x2<0.0)))&((((-88000.0*x4<44000.0&-200.0*x2<=0.0)|(-0.62*x2-1.0*x4<0.5&200.0*x2<0.0))&((88000.0*x4<=-44000.0&-200.0*x2<=-25.0)|(0.12*x20.2*x4<=-0.08&200.0*x2<25.0)))->U((-0.094325+hNet+(-0.40230000000000005*tNMACNet)+(-0.25*vONet)+(-0.40230000000000005*(tNMACNet^2.0))+(-0.5*tNMACNet*vONet))<0.0,nothing,nothing))&(((-88000.0*x4<44000.0&-200.0*x2<=-25.0)|(-0.12*x2-0.2*x4<0.08&200.0*x2<25.0))->((1.0*x1-0.06*x4<0.02&-200.0*x2<=-25.0)|(U((-0.022572551578424062+hNet+(-0.0625*tNMACNet)+(-0.03883917474521502*vONet)+(0.15535669898086005*(vONet^2.0)))<0.0,nothing,nothing)&200.0*x2<25.0)))&isMax(nnCLI1500post,nnCOCpost,nnDNCpost,nnDNDpost,nnDES1500post,nnCLI1500post,nnSDES1500post,nnSCLI1500post,nnSDES2500post,nnSCL2500post))|(((-88000.0*x4<=45000.0&-0.47*x21.0*x4<-0.51&-200.0*x2<0.0)->U((-0.13397549715909093+(-0.5484375*tNMACNet)+(-1.0*hNet)+(0.2556818181818182*vONet)+(-0.53625*(tNMACNet^2.0))+(0.5*tNMACNet*vONet))<0.0,nothing,nothing))&((((-88000.0*x4<=45000.0&200.0*x2<=0.0)|(0.47*x2-1.0*x4<=0.51&-200.0*x2<0.0))&((88000.0*x4<=-44000.0&200.0*x2<=0.0)|(-0.47*x21.0*x4<=-0.5&-200.0*x2<0.0)))->((-16000.0*x1<-100.0&200.0*x2<=0.0)|(U((100.0+(-16000.0*hNet)+(-1864.801864801865*(vONet^2.0)))<0.0,nothing,nothing)&-200.0*x2<0.0)))&((((-88000.0*x4<44000.0&200.0*x2<=0.0)|(0.47*x2-1.0*x4<0.5&-200.0*x2<0.0))&((88000.0*x4<=-44000.0&200.0*x2<=-25.0)|(-0.09*x20.2*x4<=-0.09&-200.0*x2<25.0)))->U((-0.12781250000000002+(-0.53625*tNMACNet)+(-1.0*hNet)+(0.25*vONet)+(-0.53625*(tNMACNet^2.0))+(0.5*tNMACNet*vONet))<0.0,nothing,nothing))&(((-88000.0*x4<44000.0&200.0*x2<=-25.0)|(0.09*x2-0.2*x4<0.09&-200.0*x2<25.0))->((-1.0*x1-0.06*x4<0.02&200.0*x2<=-25.0)|(U((-0.02317890442890443+(-0.0625*tNMACNet)+(-1.0*hNet)+(0.029137529137529136*vONet)+(0.11655011655011654*(vONet^2.0)))<0.0,nothing,nothing)&-200.0*x2<25.0)))&isMax(nnSDES1500post,nnCOCpost,nnDNCpost,nnDNDpost,nnDES1500post,nnCLI1500post,nnSDES1500post,nnSCLI1500post,nnSDES2500post,nnSCL2500post))|(((-88000.0*x4<=45000.0&0.47*x21.0*x4<-0.51&200.0*x2<0.0)->U((-0.13397549715909093+hNet+(-0.5484375*tNMACNet)+(-0.25568181818181823*vONet)+(-0.53625*(tNMACNet^2.0))+(-0.5*tNMACNet*vONet))<0.0,nothing,nothing))&((((-88000.0*x4<=45000.0&-200.0*x2<=0.0)|(-0.47*x2-1.0*x4<=0.51&200.0*x2<0.0))&((88000.0*x4<=-44000.0&-200.0*x2<=0.0)|(0.47*x21.0*x4<=-0.5&200.0*x2<0.0)))->((16000.0*x1<-100.0&-200.0*x2<=0.0)|(U((100.0+(16000.0*hNet)+(-1864.801864801865*(vONet^2.0)))<0.0,nothing,nothing)&200.0*x2<0.0)))&((((-88000.0*x4<44000.0&-200.0*x2<=0.0)|(-0.47*x2-1.0*x4<0.5&200.0*x2<0.0))&((88000.0*x4<=-44000.0&-200.0*x2<=-25.0)|(0.09*x20.2*x4<=-0.09&200.0*x2<25.0)))->U((-0.12781250000000002+hNet+(-0.53625*tNMACNet)+(-0.25*vONet)+(-0.53625*(tNMACNet^2.0))+(-0.5*tNMACNet*vONet))<0.0,nothing,nothing))&(((-88000.0*x4<44000.0&-200.0*x2<=-25.0)|(-0.09*x2-0.2*x4<0.09&200.0*x2<25.0))->((1.0*x1-0.06*x4<0.02&-200.0*x2<=-25.0)|(U((-0.02317890442890443+hNet+(-0.0625*tNMACNet)+(-0.02913752913752914*vONet)+(0.11655011655011654*(vONet^2.0)))<0.0,nothing,nothing)&200.0*x2<25.0)))&isMax(nnSCLI1500post,nnCOCpost,nnDNCpost,nnDNDpost,nnDES1500post,nnCLI1500post,nnSDES1500post,nnSCLI1500post,nnSDES2500post,nnSCL2500post))|(((-88000.0*x4<=45000.0&-0.47*x21.0*x4<-0.51&-200.0*x2<0.0)->U((-0.13397549715909093+(-0.5484375*tNMACNet)+(-1.0*hNet)+(0.2556818181818182*vONet)+(-0.53625*(tNMACNet^2.0))+(0.5*tNMACNet*vONet))<0.0,nothing,nothing))&((((-88000.0*x4<=45000.0&200.0*x2<=0.0)|(0.47*x2-1.0*x4<=0.51&-200.0*x2<0.0))&((88000.0*x4<=-44000.0&200.0*x2<=0.0)|(-0.47*x21.0*x4<=-0.5&-200.0*x2<0.0)))->((-16000.0*x1<-100.0&200.0*x2<=0.0)|(U((100.0+(-16000.0*hNet)+(-1864.801864801865*(vONet^2.0)))<0.0,nothing,nothing)&-200.0*x2<0.0)))&((((-88000.0*x4<44000.0&200.0*x2<=0.0)|(0.47*x2-1.0*x4<0.5&-200.0*x2<0.0))&((88000.0*x4<=-44000.0&200.0*x2<=-41.67)|(-0.09*x20.2*x4<=-0.08&-200.0*x2<41.67)))->U((-0.12781250000000002+(-0.53625*tNMACNet)+(-1.0*hNet)+(0.25*vONet)+(-0.53625*(tNMACNet^2.0))+(0.5*tNMACNet*vONet))<0.0,nothing,nothing))&(((-88000.0*x4<44000.0&200.0*x2<=-41.67)|(0.09*x2-0.2*x4<0.08&-200.0*x2<41.67))->((-1.0*x1-0.1*x4<0.05&200.0*x2<=-41.67)|(U((-0.040778091783216786+(-0.104175*tNMACNet)+(-1.0*hNet)+(0.048566433566433566*vONet)+(0.11655011655011654*(vONet^2.0)))<0.0,nothing,nothing)&-200.0*x2<41.67)))&isMax(nnSDES2500post,nnCOCpost,nnDNCpost,nnDNDpost,nnDES1500post,nnCLI1500post,nnSDES1500post,nnSCLI1500post,nnSDES2500post,nnSCL2500post))|(((-88000.0*x4<=45000.0&0.47*x21.0*x4<-0.51&200.0*x2<0.0)->U((-0.13397549715909093+hNet+(-0.5484375*tNMACNet)+(-0.25568181818181823*vONet)+(-0.53625*(tNMACNet^2.0))+(-0.5*tNMACNet*vONet))<0.0,nothing,nothing))&((((-88000.0*x4<=45000.0&-200.0*x2<=0.0)|(-0.47*x2-1.0*x4<=0.51&200.0*x2<0.0))&((88000.0*x4<=-44000.0&-200.0*x2<=0.0)|(0.47*x21.0*x4<=-0.5&200.0*x2<0.0)))->((16000.0*x1<-100.0&-200.0*x2<=0.0)|(U((100.0+(16000.0*hNet)+(-1864.801864801865*(vONet^2.0)))<0.0,nothing,nothing)&200.0*x2<0.0)))&((((-88000.0*x4<44000.0&-200.0*x2<=0.0)|(-0.47*x2-1.0*x4<0.5&200.0*x2<0.0))&((88000.0*x4<=-44000.0&-200.0*x2<=-41.67)|(0.09*x20.2*x4<=-0.08&200.0*x2<41.67)))->U((-0.12781250000000002+hNet+(-0.53625*tNMACNet)+(-0.25*vONet)+(-0.53625*(tNMACNet^2.0))+(-0.5*tNMACNet*vONet))<0.0,nothing,nothing))&(((-88000.0*x4<44000.0&-200.0*x2<=-41.67)|(-0.09*x2-0.2*x4<0.08&200.0*x2<41.67))->((1.0*x1-0.1*x4<0.05&-200.0*x2<=-41.67)|(U((-0.040778091783216786+hNet+(-0.104175*tNMACNet)+(-0.04856643356643357*vONet)+(0.11655011655011654*(vONet^2.0)))<0.0,nothing,nothing)&200.0*x2<41.67)))&isMax(nnSCL2500post,nnCOCpost,nnDNCpost,nnDNDpost,nnDES1500post,nnCLI1500post,nnSDES1500post,nnSCLI1500post,nnSDES2500post,nnSCL2500post))))), Set(Variable[vINet, vONet, tNMACNet, nnSCL2500post, nnSDES2500post, nnCLI1500post, nnSCLI1500post, nnSDES1500post, nnCOCpost, hNet, nnDNCpost, nnDNDpost, nnDES1500post]), 4, 9, Dict{ApproxQuery, Approximation}(), Vector{Float64}[])"
      ]
     },
     "metadata": {},
     "output_type": "display_data"
    }
   ],
   "source": [
    "fixed_vars_content = open(args[\"fixed\"], \"r\") do f\n",
    "    return read(f, String)\n",
    "end\n",
    "\n",
    "fixed_parsed = Meta.parse(fixed_vars_content)\n",
    "fixed_vars = Dict{String,Union{String,Number}}(eval(fixed_parsed))\n",
    "# Load mapping\n",
    "mapping_content = open(args[\"mapping\"], \"r\") do f\n",
    "    return read(f, String)\n",
    "end\n",
    "mapping_parsed = Meta.parse(mapping_content)\n",
    "mapping = Dict{String,Tuple{SNNT.AST.VariableType,Int64}}(eval(mapping_parsed))\n",
    "# Load formula\n",
    "initial_query=load_query(args[\"formula\"],fixed_vars,mapping)\n",
    "prepared_query=prepare_for_olnnv(initial_query)"
   ]
  },
  {
   "cell_type": "code",
   "execution_count": 41,
   "metadata": {},
   "outputs": [
    {
     "data": {
      "text/plain": [
       "get_atoms (generic function with 1 method)"
      ]
     },
     "metadata": {},
     "output_type": "display_data"
    }
   ],
   "source": [
    "function get_atoms(formula)\n",
    "    atoms = Dict{Union{Atom,Predicate,SemiLinearConstraint,LinearConstraint},Bool}()\n",
    "    if formula isa Atom || formula isa Predicate || formula isa SemiLinearConstraint || formula isa LinearConstraint\n",
    "        atoms[formula] = true\n",
    "    elseif istree(formula)\n",
    "        for a in arguments(formula)\n",
    "            for f in keys(get_atoms(a))\n",
    "                atoms[f]=true\n",
    "            end\n",
    "        end\n",
    "    end\n",
    "    return atoms\n",
    "end"
   ]
  },
  {
   "cell_type": "code",
   "execution_count": 42,
   "metadata": {},
   "outputs": [
    {
     "data": {
      "text/plain": [
       "get_tree_depth (generic function with 1 method)"
      ]
     },
     "metadata": {},
     "output_type": "display_data"
    }
   ],
   "source": [
    "function get_tree_depth(formula)\n",
    "    if istree(formula) && formula isa Formula\n",
    "        return maximum(get_tree_depth.(arguments(formula)))+1\n",
    "    else\n",
    "        return 0\n",
    "    end\n",
    "    @warn typeof(formula)\n",
    "end"
   ]
  },
  {
   "cell_type": "code",
   "execution_count": 43,
   "metadata": {},
   "outputs": [
    {
     "name": "stdout",
     "output_type": "stream",
     "text": [
      "Number of atoms: 112"
     ]
    },
    {
     "name": "stdout",
     "output_type": "stream",
     "text": [
      "Tree depth of formula: 9"
     ]
    }
   ],
   "source": [
    "print(\"Number of atoms: \",length(keys(get_atoms(prepared_query.formula))))\n",
    "print(\"Tree depth of formula: \",get_tree_depth(prepared_query.formula))"
   ]
  },
  {
   "cell_type": "code",
   "execution_count": null,
   "metadata": {},
   "outputs": [],
   "source": []
  }
 ],
 "metadata": {
  "kernelspec": {
   "display_name": "Julia 1.9.3",
   "language": "julia",
   "name": "julia-1.9"
  },
  "language_info": {
   "file_extension": ".jl",
   "mimetype": "application/julia",
   "name": "julia",
   "version": "1.9.3"
  }
 },
 "nbformat": 4,
 "nbformat_minor": 2
}
